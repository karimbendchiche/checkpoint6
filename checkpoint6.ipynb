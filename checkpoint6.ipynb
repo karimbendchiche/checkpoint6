{
 "cells": [
  {
   "cell_type": "code",
   "execution_count": 2,
   "id": "5e68c86d",
   "metadata": {},
   "outputs": [],
   "source": [
    "import numpy as np"
   ]
  },
  {
   "cell_type": "markdown",
   "id": "caf7ac7d",
   "metadata": {},
   "source": [
    "# Q1"
   ]
  },
  {
   "cell_type": "code",
   "execution_count": 3,
   "id": "f9d7884f",
   "metadata": {},
   "outputs": [
    {
     "data": {
      "text/plain": [
       "[1, 2, 3]"
      ]
     },
     "execution_count": 3,
     "metadata": {},
     "output_type": "execute_result"
    }
   ],
   "source": [
    "my_array = np.array([1,2,3])\n",
    "my_list = my_array.tolist()\n",
    "my_list\n",
    "\n",
    "\n"
   ]
  },
  {
   "cell_type": "markdown",
   "id": "0efebe38",
   "metadata": {},
   "source": [
    "# Q2"
   ]
  },
  {
   "cell_type": "markdown",
   "id": "03c084d6",
   "metadata": {},
   "source": [
    "### Method 1"
   ]
  },
  {
   "cell_type": "code",
   "execution_count": 4,
   "id": "4977aa86",
   "metadata": {},
   "outputs": [
    {
     "name": "stdout",
     "output_type": "stream",
     "text": [
      "Numpy Matrix is:\n",
      "[[ 10  20 130   2]\n",
      " [  1  30   3   3]\n",
      " [ 11  20  40   4]\n",
      " [ 11  20  50   6]]\n",
      "\n",
      " la somme de diagonale: 86\n"
     ]
    }
   ],
   "source": [
    "# creating a 3X3 Numpy matrix\n",
    "my_array = np.array([[10, 20, 130,2],[1, 30, 3,3],[11, 20, 40,4],[11, 20, 50,6]])\n",
    "  \n",
    "# Displaying the Matrix\n",
    "print(\"Numpy Matrix is:\")\n",
    "print(my_array)\n",
    "  \n",
    "# calculating the Trace of a matrix ( The sum of the diagonal elements of a given array.)\n",
    "s = np.trace(my_array)\n",
    "  \n",
    "print(\"\\n la somme de diagonale:\", s)"
   ]
  },
  {
   "cell_type": "markdown",
   "id": "b320046d",
   "metadata": {},
   "source": [
    "### Method 2 "
   ]
  },
  {
   "cell_type": "code",
   "execution_count": 5,
   "id": "553715b2",
   "metadata": {},
   "outputs": [
    {
     "name": "stdout",
     "output_type": "stream",
     "text": [
      "\n",
      " la somme de diagonale: 86\n"
     ]
    }
   ],
   "source": [
    "# creating a 3X3 Numpy matrix\n",
    "my_array = np.array([[10, 20, 130,2],[1, 30, 3,3],[11, 20, 40,4],[11, 20, 50,6]])\n",
    "elem_diag = my_array.diagonal()\n",
    "s=0\n",
    "for i in range(len(elem_diag)):\n",
    "    s = s + elem_diag[i]\n",
    "print(\"\\n la somme de diagonale:\", s)"
   ]
  },
  {
   "cell_type": "markdown",
   "id": "1ddb1bf9",
   "metadata": {},
   "source": [
    "# Q3"
   ]
  },
  {
   "cell_type": "code",
   "execution_count": 6,
   "id": "915ec555",
   "metadata": {},
   "outputs": [
    {
     "name": "stdout",
     "output_type": "stream",
     "text": [
      "le nombre suivant est supérieur à 10 :  20\n",
      "le nombre suivant est supérieur à 10 :  130\n",
      "le nombre suivant est supérieur à 10 :  30\n"
     ]
    }
   ],
   "source": [
    "t = np.array([[10, 20, 130],[1, 30, 3]])\n",
    "x = 10\n",
    "for i in range(t.shape[0]):\n",
    "     for j in range(t.shape[1]):\n",
    "            if t[i][j] > x:\n",
    "                print(\"le nombre suivant est supérieur à 10 : \",t[i][j])\n"
   ]
  },
  {
   "cell_type": "markdown",
   "id": "f7dcbe66",
   "metadata": {},
   "source": [
    "# Q4"
   ]
  },
  {
   "cell_type": "code",
   "execution_count": 7,
   "id": "55268274",
   "metadata": {},
   "outputs": [
    {
     "name": "stdout",
     "output_type": "stream",
     "text": [
      "[[ 11  22 133]\n",
      " [  5  35   9]\n",
      " [ 18  28  49]]\n"
     ]
    }
   ],
   "source": [
    "A = np.array([[10, 20, 130],[1, 30, 3],[11, 20, 40]])\n",
    "B = np.array([[1, 2, 3],[4, 5, 6],[7, 8, 9]])\n",
    "C = A+B\n",
    "print(C)"
   ]
  },
  {
   "cell_type": "markdown",
   "id": "cd150007",
   "metadata": {},
   "source": [
    "# Q5"
   ]
  },
  {
   "cell_type": "code",
   "execution_count": 8,
   "id": "5a479bab",
   "metadata": {},
   "outputs": [
    {
     "data": {
      "text/plain": [
       "array([3., 2.])"
      ]
     },
     "execution_count": 8,
     "metadata": {},
     "output_type": "execute_result"
    }
   ],
   "source": [
    "arr = np.array([[3, 3, 3], [1, 2, 3]])\n",
    "moy = np.mean(arr, axis=1)#axis=1 => ligne #axis=0 => colonne \n",
    "moy"
   ]
  }
 ],
 "metadata": {
  "kernelspec": {
   "display_name": "Python 3",
   "language": "python",
   "name": "python3"
  },
  "language_info": {
   "codemirror_mode": {
    "name": "ipython",
    "version": 3
   },
   "file_extension": ".py",
   "mimetype": "text/x-python",
   "name": "python",
   "nbconvert_exporter": "python",
   "pygments_lexer": "ipython3",
   "version": "3.7.4"
  }
 },
 "nbformat": 4,
 "nbformat_minor": 5
}
